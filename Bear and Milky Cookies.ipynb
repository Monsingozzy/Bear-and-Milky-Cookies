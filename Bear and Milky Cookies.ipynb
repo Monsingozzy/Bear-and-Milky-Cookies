{
 "cells": [
  {
   "cell_type": "markdown",
   "metadata": {},
   "source": [
    "# Bear and Milky Cookies"
   ]
  },
  {
   "cell_type": "code",
   "execution_count": null,
   "metadata": {},
   "outputs": [],
   "source": [
    "t=int(input()) \n",
    "while(t>0): # we begin postive numbers ony \n",
    "    n=int(input())\n",
    "    count=0\n",
    "    arr=list(map(str,input().split()))\n",
    "    for i in range(n):\n",
    "        if(arr[i]=='cookie' and i+1<n and arr[i+1]=='milk'): #checking values if cookie then i th value is not last value then we increment and check next is milk if yes then its increment count\n",
    "            count+=1\n",
    "    if(count==arr.count('cookie') or n==arr.count('milk')): #checking by count if cookie or milk then print ans \n",
    "        print(\"YES\")\n",
    "    else:\n",
    "        print(\"NO\")\n",
    "    t-=1"
   ]
  },
  {
   "cell_type": "markdown",
   "metadata": {},
   "source": [
    "## step1 : taking input in t \n",
    "\n",
    "## step2 : process begins only any one inputs otherwise not \n",
    "\n",
    "## step3 : we access input of cookie and milk in map \n",
    "\n",
    "## step4: check all values if first index is cookie and if its last or not and if its not last value check nect value milk or cookie \n",
    "\n",
    "##        if all satifiy then increment count value by 1 \n",
    "\n",
    "##  step5 : the way count in count all cookie and otherwise count milk if one cookie after milk then print yes or no"
   ]
  },
  {
   "cell_type": "code",
   "execution_count": null,
   "metadata": {},
   "outputs": [],
   "source": []
  }
 ],
 "metadata": {
  "kernelspec": {
   "display_name": "Python 3",
   "language": "python",
   "name": "python3"
  },
  "language_info": {
   "codemirror_mode": {
    "name": "ipython",
    "version": 3
   },
   "file_extension": ".py",
   "mimetype": "text/x-python",
   "name": "python",
   "nbconvert_exporter": "python",
   "pygments_lexer": "ipython3",
   "version": "3.7.9"
  }
 },
 "nbformat": 4,
 "nbformat_minor": 4
}
